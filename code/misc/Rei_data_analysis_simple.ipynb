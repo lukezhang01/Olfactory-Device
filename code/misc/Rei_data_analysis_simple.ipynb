{
 "cells": [
  {
   "cell_type": "code",
   "execution_count": null,
   "id": "577f61d7-9179-4a06-b1f8-876c200d756a",
   "metadata": {},
   "source": [
    "import numpy as np\n",
    "import matplotlib.pyplot as plt\n",
    "from astropy.io import fits\n",
    "from matplotlib.colors import LogNorm"
   ],
   "outputs": []
  },
  {
   "cell_type": "code",
   "execution_count": 33,
   "id": "f38b2888-b1d1-400e-a3c4-f27adf62f576",
   "metadata": {},
   "source": [
    "def load_image(path: str):\n",
    "    \"\"\"\n",
    "    Load in FITS image from a path as a numpy array.\n",
    "    \"\"\"\n",
    "    data = fits.getdata(path)\n",
    "    return data\n",
    "\n",
    "def view_fits(data, vmin: int = 1, vmax: int = 65000, log: bool = True):\n",
    "    \"\"\"\n",
    "    View a FITS image using its numpy array.\n",
    "    Use vmin and vmax to scale the image.\n",
    "    Use log to swap between a linear and a logarithmic scale.\n",
    "    \"\"\"\n",
    "    plt.figure()\n",
    "    \n",
    "    if log:\n",
    "        plt.imshow(data, origin = 'lower', norm = LogNorm(vmin = vmin, vmax = vmax), cmap = 'inferno')\n",
    "    else:\n",
    "        plt.imshow(data, origin = 'lower', vmin = vmin, vmax = vmax, cmap = 'inferno')\n",
    "        \n",
    "    cb = plt.colorbar()\n",
    "    cb.set_label('Signal [ADU]')\n",
    "    plt.xlabel('X [px]')\n",
    "    plt.ylabel('Y [px]')"
   ],
   "outputs": []
  },
  {
   "cell_type": "code",
   "execution_count": 141,
   "id": "740485d3-1283-4c5f-945a-dca953372c37",
   "metadata": {},
   "source": [
    "def view_boxes_on_image(data, coords_list, side_length: int = 10, vmin: int = 1, vmax: int = 65000, log: bool = True):\n",
    "    \"\"\"\n",
    "    View the boxes superimposed on the FITS data.\n",
    "    The coords need to be in a list of the format (even if only one set of coords):\n",
    "    [[x1, y1], [x2, y2], [x3, y3], ...]\n",
    "    \n",
    "    Set the side length of the box in pixels using side_length.\n",
    "    \n",
    "    Use vmin and vmax to scale the image.\n",
    "    Use log to swap between a linear and a logarithmic scale.\n",
    "    \n",
    "    Note: If the box isn't right, try swapping the x and y coords.\n",
    "    \"\"\"\n",
    "\n",
    "    def draw_box(x_coord: int, y_coord: int, side_length: int, box_number: int):\n",
    "        \"\"\"\n",
    "        Draws a box.\n",
    "        \"\"\"\n",
    "        l = side_length//2\n",
    "        \n",
    "        plt.plot([x_coord - l, x_coord + l], [y_coord - l, y_coord - l], c = 'r')\n",
    "        plt.plot([x_coord - l, x_coord + l], [y_coord + l, y_coord + l], c = 'r')\n",
    "        plt.plot([x_coord - l, x_coord - l], [y_coord - l, y_coord + l], c = 'r')\n",
    "        plt.plot([x_coord + l, x_coord + l], [y_coord - l, y_coord + l], c = 'r')\n",
    "        plt.text(x_coord, y_coord, str(box_number), c = 'r')\n",
    "        \n",
    "        box = data[y_coord - l:y_coord + l, x_coord - l:x_coord + l]\n",
    "        print(f\"Total signal count in box {num}: {sum(box.flatten())} ADU\")\n",
    "    \n",
    "    view_fits(data, vmin = vmin, vmax = vmax, log = log)    \n",
    "    \n",
    "    num = 0\n",
    "    for coords in coords_list:\n",
    "        num += 1\n",
    "        draw_box(coords[0], coords[1], side_length, num)\n",
    "        "
   ],
   "outputs": []
  },
  {
   "cell_type": "code",
   "execution_count": 139,
   "id": "9e696b97-96f4-4d71-a731-45a93eca72d4",
   "metadata": {},
   "source": [
    "def make_box(coords, data, side_length: int = 10, vmin: int = 1, vmax: int = 65000, log: bool = True):\n",
    "    \"\"\"\n",
    "    Make a box around a given coordinate in the format [x, y] in the FITS data array.\n",
    "    Set the side length of the box in pixels using side_length.\n",
    "    \n",
    "    Use vmin and vmax to scale the image.\n",
    "    Use log to swap between a linear and a logarithmic scale.\n",
    "    \n",
    "    Note: If the box isn't right, try swapping the x and y coords.\n",
    "    \"\"\"\n",
    "    x = coords[0]\n",
    "    y = coords[1]\n",
    "    l = side_length//2\n",
    "    \n",
    "    print(f\"Box of side length {side_length} centered around coordinates [{x}, {y}]\")\n",
    "    \n",
    "    box = data[y-l:y+l, x-l:x+l]\n",
    "    \n",
    "    view_fits(box, vmin = vmin, vmax = vmax, log = log)\n",
    "    plt.xticks(range(0, side_length+1, 5), [(i + x - l) for i in range(0, side_length+1, 5)])\n",
    "    plt.yticks(range(0, side_length+1, 5), [(j + y - l) for j in range(0, side_length+1, 5)])\n",
    "    \n",
    "    print(f\"Total signal count in box: {sum(box.flatten())} ADU\")\n",
    "    \n",
    "    return box"
   ],
   "outputs": []
  },
  {
   "cell_type": "code",
   "execution_count": null,
   "id": "1bb507c5-3e5e-4010-8baf-4d0bc84921ed",
   "metadata": {},
   "source": [
    "def make_histograms(box):\n",
    "    \"\"\"\n",
    "    Makes 1D histograms of the total signal in x and the total signal in y.\n",
    "    \"\"\"\n",
    "    stack_x = np.zeros(box.shape[1])\n",
    "    stack_y = np.zeros(box.shape[0])\n",
    "    for j in range(box.shape[0]):\n",
    "        stack_x += box[j,:]\n",
    "        stack_y += box[:,j]\n",
    "        \n",
    "    coords_range = range(box.shape[0])\n",
    "    \n",
    "    plt.bar(coords_range, stack_x, edgecolor='red'  , linewidth=1, fill=False, label = 'X', alpha = 0.5, width = 1)\n",
    "    plt.bar(coords_range, stack_y, edgecolor='green', linewidth=1, fill=False, label = 'Y', alpha = 0.5, width = 1)\n",
    "    \n",
    "    plt.title('Signals in x and y')\n",
    "    plt.xlabel('Box Coordinates [px]')\n",
    "    plt.ylabel('Total Signal [ADU]')\n",
    "    plt.legend()\n",
    "    \n",
    "    return stack_x, stack_y"
   ],
   "outputs": []
  },
  {
   "cell_type": "markdown",
   "id": "cfedac17-7783-4bc2-85b5-128b63c3dcfb",
   "metadata": {},
   "source": [
    "### TESTING THE CODE ###"
   ]
  },
  {
   "cell_type": "code",
   "execution_count": 151,
   "id": "3cdfc984-ec9e-4f19-9f8c-9b4588d354c5",
   "metadata": {},
   "source": [
    "data = load_image('/Users/adi/Downloads/Ximea_BPfilter530_BlueLight_200ms.fits')[500:1700, 425:1650] #[900:1200, 900:950]\n",
    "\n",
    "data[np.isnan(data)] = 0"
   ],
   "outputs": []
  },
  {
   "cell_type": "code",
   "execution_count": 172,
   "id": "2fd6a19d-93df-4184-b8e7-9880ad1eb119",
   "metadata": {},
   "source": [
    "view_fits(data, vmin = 10, vmax = 300, log = True)"
   ],
   "outputs": []
  },
  {
   "cell_type": "code",
   "execution_count": 173,
   "id": "93211a15-00c4-4714-9156-9f583503a3d1",
   "metadata": {},
   "source": [
    "view_boxes_on_image(data, [[500, 425], [500,550], [500, 675]], vmin = 10, vmax = 500, log = True, side_length = 45)"
   ],
   "outputs": []
  },
  {
   "cell_type": "code",
   "execution_count": 165,
   "id": "64acfd62-4dbc-4ddd-b001-142f4467941f",
   "metadata": {},
   "source": [
    "b34 = make_box([500, 425], data, side_length= 45, vmin= 10, vmax= 300)"
   ],
   "outputs": []
  },
  {
   "cell_type": "code",
   "execution_count": 155,
   "id": "89510398-a109-44cf-b45e-1135ef585a27",
   "metadata": {},
   "source": [
    "plt.hist(b34.flatten(), label = '34', fill=False, edgecolor='r')\n",
    "plt.hist(b36.flatten(), label = '36', fill=False, edgecolor='g')\n",
    "plt.legend()"
   ],
   "outputs": []
  },
  {
   "cell_type": "code",
   "execution_count": 171,
   "id": "6ada3860-4491-4d55-b672-a7cb97dffa6b",
   "metadata": {},
   "source": [
    "b36 = make_box([500, 675], data, side_length= 45, vmin= 10, vmax= 300)"
   ],
   "outputs": []
  },
  {
   "cell_type": "code",
   "execution_count": null,
   "id": "f697fe0b-b667-4de0-82f4-93e52180b6a8",
   "metadata": {},
   "source": [],
   "outputs": []
  }
 ],
 "metadata": {
  "kernelspec": {
   "display_name": "Python 3 (ipykernel)",
   "language": "python",
   "name": "python3"
  },
  "language_info": {
   "codemirror_mode": {
    "name": "ipython",
    "version": 3
   },
   "file_extension": ".py",
   "mimetype": "text/x-python",
   "name": "python",
   "nbconvert_exporter": "python",
   "pygments_lexer": "ipython3",
   "version": "3.9.13"
  }
 },
 "nbformat": 4,
 "nbformat_minor": 5
}
